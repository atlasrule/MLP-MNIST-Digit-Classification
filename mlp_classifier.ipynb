{
 "cells": [
  {
   "cell_type": "markdown",
   "id": "6163b0ec",
   "metadata": {},
   "source": [
    "# MNIST Handwritten Digit Classification using Multilayer Perceptron"
   ]
  },
  {
   "cell_type": "code",
   "execution_count": 1,
   "id": "194f2359",
   "metadata": {},
   "outputs": [],
   "source": [
    "from sklearn.datasets import fetch_openml\n",
    "from sklearn.neural_network import MLPClassifier\n",
    "import matplotlib.pyplot as plt\n",
    "import pandas\n",
    "from sklearn import metrics"
   ]
  },
  {
   "cell_type": "code",
   "execution_count": 2,
   "id": "6ce02689",
   "metadata": {},
   "outputs": [],
   "source": [
    "X, y = fetch_openml('mnist_784', version=1, return_X_y=True)"
   ]
  },
  {
   "cell_type": "code",
   "execution_count": 3,
   "id": "e670fdcf",
   "metadata": {},
   "outputs": [],
   "source": [
    "# Normalizing pixel intensity\n",
    "X = X / 255.0"
   ]
  },
  {
   "cell_type": "code",
   "execution_count": 4,
   "id": "2695c05c",
   "metadata": {},
   "outputs": [],
   "source": [
    "X_train = X[:60000]\n",
    "X_test = X[60000:]\n",
    "y_train = y[:60000]\n",
    "y_test = y[60000:]"
   ]
  },
  {
   "cell_type": "code",
   "execution_count": 5,
   "id": "e65b54cd",
   "metadata": {},
   "outputs": [],
   "source": [
    "model = MLPClassifier(\n",
    "    hidden_layer_sizes=(80,30,10),\n",
    "    activation= \"tanh\",\n",
    "    solver=\"sgd\",\n",
    "    alpha=1e-4,\n",
    "    verbose=10,\n",
    "    random_state=1,\n",
    "    learning_rate_init=0.1,\n",
    "    batch_size = 200,\n",
    "    max_iter=50,\n",
    ")"
   ]
  },
  {
   "cell_type": "code",
   "execution_count": 6,
   "id": "3fc6899c",
   "metadata": {
    "scrolled": false
   },
   "outputs": [
    {
     "name": "stdout",
     "output_type": "stream",
     "text": [
      "Iteration 1, loss = 0.36346019\n",
      "Iteration 2, loss = 0.13859750\n",
      "Iteration 3, loss = 0.10562849\n",
      "Iteration 4, loss = 0.08557375\n",
      "Iteration 5, loss = 0.07443305\n",
      "Iteration 6, loss = 0.06413101\n",
      "Iteration 7, loss = 0.05786220\n",
      "Iteration 8, loss = 0.05064319\n",
      "Iteration 9, loss = 0.04332692\n",
      "Iteration 10, loss = 0.03966056\n",
      "Iteration 11, loss = 0.03714910\n",
      "Iteration 12, loss = 0.03149878\n",
      "Iteration 13, loss = 0.02875025\n",
      "Iteration 14, loss = 0.02784792\n",
      "Iteration 15, loss = 0.02381642\n",
      "Iteration 16, loss = 0.02434061\n",
      "Iteration 17, loss = 0.02247602\n",
      "Iteration 18, loss = 0.02096943\n",
      "Iteration 19, loss = 0.02224600\n",
      "Iteration 20, loss = 0.02182063\n",
      "Iteration 21, loss = 0.01641232\n",
      "Iteration 22, loss = 0.01923873\n",
      "Iteration 23, loss = 0.01631675\n",
      "Iteration 24, loss = 0.01867606\n",
      "Iteration 25, loss = 0.01653694\n",
      "Iteration 26, loss = 0.02170261\n",
      "Iteration 27, loss = 0.01493141\n",
      "Iteration 28, loss = 0.01312539\n",
      "Iteration 29, loss = 0.01455409\n",
      "Iteration 30, loss = 0.01351492\n",
      "Iteration 31, loss = 0.01151862\n",
      "Iteration 32, loss = 0.01083799\n",
      "Iteration 33, loss = 0.00914328\n",
      "Iteration 34, loss = 0.00712982\n",
      "Iteration 35, loss = 0.00732713\n",
      "Iteration 36, loss = 0.00623783\n",
      "Iteration 37, loss = 0.00443532\n",
      "Iteration 38, loss = 0.00237249\n",
      "Iteration 39, loss = 0.00194420\n",
      "Iteration 40, loss = 0.00192635\n",
      "Iteration 41, loss = 0.00179547\n",
      "Iteration 42, loss = 0.00163028\n",
      "Iteration 43, loss = 0.00146080\n",
      "Iteration 44, loss = 0.00138026\n",
      "Iteration 45, loss = 0.00132287\n",
      "Iteration 46, loss = 0.00128649\n",
      "Iteration 47, loss = 0.00125213\n",
      "Iteration 48, loss = 0.00122172\n",
      "Iteration 49, loss = 0.00119497\n",
      "Iteration 50, loss = 0.00116968\n"
     ]
    },
    {
     "name": "stderr",
     "output_type": "stream",
     "text": [
      "c:\\users\\berkay\\appdata\\local\\programs\\python\\python39\\lib\\site-packages\\sklearn\\neural_network\\_multilayer_perceptron.py:692: ConvergenceWarning: Stochastic Optimizer: Maximum iterations (50) reached and the optimization hasn't converged yet.\n",
      "  warnings.warn(\n"
     ]
    },
    {
     "data": {
      "text/plain": [
       "MLPClassifier(activation='tanh', batch_size=200,\n",
       "              hidden_layer_sizes=(80, 30, 10), learning_rate_init=0.1,\n",
       "              max_iter=50, random_state=1, solver='sgd', verbose=10)"
      ]
     },
     "execution_count": 6,
     "metadata": {},
     "output_type": "execute_result"
    }
   ],
   "source": [
    "model.fit(X_train, y_train)"
   ]
  },
  {
   "cell_type": "code",
   "execution_count": 7,
   "id": "59f5c40b",
   "metadata": {},
   "outputs": [
    {
     "name": "stdout",
     "output_type": "stream",
     "text": [
      "Train score: 0.99995\n",
      "Test score: 0.9768\n"
     ]
    }
   ],
   "source": [
    "print(\"Train score:\", model.score(X_train, y_train))\n",
    "print(\"Test score:\",  model.score(X_test, y_test))"
   ]
  },
  {
   "cell_type": "code",
   "execution_count": 8,
   "id": "e1543154",
   "metadata": {},
   "outputs": [
    {
     "data": {
      "image/png": "[encoded data removed]",
      "text/plain": [
       "<Figure size 432x288 with 1 Axes>"
      ]
     },
     "metadata": {
      "needs_background": "light"
     },
     "output_type": "display_data"
    }
   ],
   "source": [
    "# The cost function\n",
    "fig, axes = plt.subplots(1, 1)\n",
    "axes.plot(model.loss_curve_, 'o')\n",
    "axes.set_xlabel(\"n-iterations\")\n",
    "axes.set_ylabel(\"Loss\")\n",
    "plt.show()"
   ]
  },
  {
   "cell_type": "markdown",
   "id": "53915a88",
   "metadata": {},
   "source": [
    "#### So roughly 40 iterations are enough for convergence with these parameters."
   ]
  },
  {
   "cell_type": "code",
   "execution_count": 10,
   "id": "8372e734",
   "metadata": {},
   "outputs": [
    {
     "name": "stdout",
     "output_type": "stream",
     "text": [
      "              precision    recall  f1-score   support\n",
      "\n",
      "           0       1.00      1.00      1.00      5923\n",
      "           1       1.00      1.00      1.00      6742\n",
      "           2       1.00      1.00      1.00      5958\n",
      "           3       1.00      1.00      1.00      6131\n",
      "           4       1.00      1.00      1.00      5842\n",
      "           5       1.00      1.00      1.00      5421\n",
      "           6       1.00      1.00      1.00      5918\n",
      "           7       1.00      1.00      1.00      6265\n",
      "           8       1.00      1.00      1.00      5851\n",
      "           9       1.00      1.00      1.00      5949\n",
      "\n",
      "    accuracy                           1.00     60000\n",
      "   macro avg       1.00      1.00      1.00     60000\n",
      "weighted avg       1.00      1.00      1.00     60000\n",
      "\n"
     ]
    }
   ],
   "source": [
    "y_train_expected = y_train\n",
    "y_train_predicted = model.predict(X_train)\n",
    "\n",
    "print(metrics.classification_report(y_train_expected, y_train_predicted))"
   ]
  },
  {
   "cell_type": "code",
   "execution_count": 11,
   "id": "a484c5a0",
   "metadata": {},
   "outputs": [
    {
     "name": "stdout",
     "output_type": "stream",
     "text": [
      "              precision    recall  f1-score   support\n",
      "\n",
      "           0       0.98      0.99      0.99       980\n",
      "           1       0.99      0.99      0.99      1135\n",
      "           2       0.98      0.98      0.98      1032\n",
      "           3       0.96      0.98      0.97      1010\n",
      "           4       0.98      0.98      0.98       982\n",
      "           5       0.97      0.97      0.97       892\n",
      "           6       0.99      0.98      0.98       958\n",
      "           7       0.97      0.97      0.97      1028\n",
      "           8       0.97      0.96      0.97       974\n",
      "           9       0.97      0.96      0.97      1009\n",
      "\n",
      "    accuracy                           0.98     10000\n",
      "   macro avg       0.98      0.98      0.98     10000\n",
      "weighted avg       0.98      0.98      0.98     10000\n",
      "\n"
     ]
    }
   ],
   "source": [
    "y_test_expected = y_test\n",
    "y_test_predicted = model.predict(X_test)\n",
    "\n",
    "print(metrics.classification_report(y_test_expected, y_test_predicted))"
   ]
  }
 ],
 "metadata": {
  "kernelspec": {
   "display_name": "Python 3 (ipykernel)",
   "language": "python",
   "name": "python3"
  },
  "language_info": {
   "codemirror_mode": {
    "name": "ipython",
    "version": 3
   },
   "file_extension": ".py",
   "mimetype": "text/x-python",
   "name": "python",
   "nbconvert_exporter": "python",
   "pygments_lexer": "ipython3",
   "version": "3.9.2"
  }
 },
 "nbformat": 4,
 "nbformat_minor": 5
}
